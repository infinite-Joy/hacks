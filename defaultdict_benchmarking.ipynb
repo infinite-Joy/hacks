{
 "cells": [
  {
   "cell_type": "code",
   "execution_count": 2,
   "metadata": {
    "collapsed": false
   },
   "outputs": [
    {
     "name": "stdout",
     "output_type": "stream",
     "text": [
      "3.5.2 |Anaconda 4.1.1 (32-bit)| (default, Jul  5 2016, 11:45:57) [MSC v.1900 32 bit (Intel)]\n",
      " defaultdict:       5.48 micro sec/call (25 elements, 3 keys)\n",
      " defaultdict:      11.20 micro sec/call (25 elements, 25 keys)\n",
      "  setdefault:       7.80 micro sec/call (25 elements, 3 keys)\n",
      "  setdefault:       8.97 micro sec/call (25 elements, 25 keys)\n",
      "\n",
      " defaultdict:      14.66 micro sec/call (100 elements, 3 keys)\n",
      " defaultdict:      42.19 micro sec/call (100 elements, 100 keys)\n",
      "  setdefault:      26.71 micro sec/call (100 elements, 3 keys)\n",
      "  setdefault:      34.78 micro sec/call (100 elements, 100 keys)\n",
      "\n",
      " defaultdict:     623.21 micro sec/call (5,000 elements, 3 keys)\n",
      " defaultdict:    2207.91 micro sec/call (5,000 elements, 5,000 keys)\n",
      "  setdefault:    1329.99 micro sec/call (5,000 elements, 3 keys)\n",
      "  setdefault:    3076.57 micro sec/call (5,000 elements, 5,000 keys)\n",
      "\n",
      " defaultdict:    4625.00 micro sec/call (25,000 elements, 3 keys)\n",
      " defaultdict:   15950.98 micro sec/call (25,000 elements, 25,000 keys)\n",
      "  setdefault:    6907.47 micro sec/call (25,000 elements, 3 keys)\n",
      "  setdefault:   17605.08 micro sec/call (25,000 elements, 25,000 keys)\n",
      "\n"
     ]
    }
   ],
   "source": [
    "from collections import defaultdict\n",
    "\n",
    "try:\n",
    "    t=unichr(100)\n",
    "except NameError:\n",
    "    unichr=chr\n",
    "\n",
    "def f1(li):\n",
    "    '''defaultdict'''\n",
    "    d = defaultdict(list)\n",
    "    for k, v in li:\n",
    "        d[k].append(v)\n",
    "    return d.items()\n",
    "\n",
    "def f2(li):\n",
    "    '''setdefault'''\n",
    "    d={}\n",
    "    for k, v in li:\n",
    "        d.setdefault(k, []).append(v)\n",
    "    return d.items()\n",
    "\n",
    "\n",
    "if __name__ == '__main__':\n",
    "    import timeit\n",
    "    import sys\n",
    "    print(sys.version)\n",
    "    few=[('yellow', 1), ('blue', 2), ('yellow', 3), ('blue', 4), ('red', 1)]\n",
    "    fmt='{:>12}: {:10.2f} micro sec/call ({:,} elements, {:,} keys)'\n",
    "    for tag, m, n in [('small',5,10000), ('medium',20,1000), ('bigger',1000,100), ('large',5000,10)]:\n",
    "        for f in [f1,f2]:\n",
    "            s = few*m\n",
    "            res=timeit.timeit(\"{}(s)\".format(f.__name__), setup=\"from __main__ import {}, s\".format(f.__name__), number=n)\n",
    "            st=fmt.format(f.__doc__, res/n*1000000, len(s), len(f(s)))\n",
    "            print(st)\n",
    "            s = [(unichr(i%0x10000),i) for i in range(1,len(s)+1)]\n",
    "            res=timeit.timeit(\"{}(s)\".format(f.__name__), setup=\"from __main__ import {}, s\".format(f.__name__), number=n)\n",
    "            st=fmt.format(f.__doc__, res/n*1000000, len(s), len(f(s)))\n",
    "            print(st)\n",
    "        print()"
   ]
  },
  {
   "cell_type": "code",
   "execution_count": null,
   "metadata": {
    "collapsed": true
   },
   "outputs": [],
   "source": []
  }
 ],
 "metadata": {
  "kernelspec": {
   "display_name": "Python [Root]",
   "language": "python",
   "name": "Python [Root]"
  },
  "language_info": {
   "codemirror_mode": {
    "name": "ipython",
    "version": 3
   },
   "file_extension": ".py",
   "mimetype": "text/x-python",
   "name": "python",
   "nbconvert_exporter": "python",
   "pygments_lexer": "ipython3",
   "version": "3.5.2"
  }
 },
 "nbformat": 4,
 "nbformat_minor": 0
}
